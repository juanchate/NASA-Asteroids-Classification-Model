{
 "cells": [
  {
   "cell_type": "markdown",
   "metadata": {},
   "source": [
    "<h1>Introduction</h1>\n",
    "<p>Welcome! In this notebook i'm going to analyze different asteroids data and implement a Machine Learning Classfier to predict the hazard for different asteroids</p>\n",
    "<h3>My main objectives on this project are:</h3>   \n",
    "<ul>\n",
    "    <li>Applying exploratory data analysis and trying to get some insights about our dataset</li>\n",
    "    <li>Getting data in better shape by transforming and feature engineering to help us in building better models</li>\n",
    "    <li>Building and tuning a XGBClassifer to get some results on predicting Hazard</li>\n",
    "</ul>"
   ]
  },
  {
   "cell_type": "markdown",
   "metadata": {},
   "source": [
    "<h2>Importing Libraries</h2>\n",
    "<p>Lets start by importing some packages we are going to need</p>"
   ]
  },
  {
   "cell_type": "code",
   "execution_count": 85,
   "metadata": {},
   "outputs": [],
   "source": [
    "import numpy as np\n",
    "import pandas as pd\n",
    "import os\n",
    "import matplotlib.pyplot as plt\n",
    "import matplotlib.gridspec as gridspec\n",
    "from matplotlib.ticker import MaxNLocator\n",
    "import seaborn as sns"
   ]
  },
  {
   "cell_type": "markdown",
   "metadata": {},
   "source": [
    "<h2>Meeting the data</h2>\n",
    "<p>Lets open the data and see what we have</p>"
   ]
  },
  {
   "cell_type": "code",
   "execution_count": 86,
   "metadata": {},
   "outputs": [],
   "source": [
    "#Opening the data\n",
    "data = pd.read_csv('./nasa.csv')"
   ]
  },
  {
   "cell_type": "code",
   "execution_count": 87,
   "metadata": {},
   "outputs": [
    {
     "data": {
      "text/plain": [
       "(4687, 40)"
      ]
     },
     "execution_count": 87,
     "metadata": {},
     "output_type": "execute_result"
    }
   ],
   "source": [
    "#Lets see the shapes of the data so we know what we are dealing with\n",
    "data.shape"
   ]
  },
  {
   "cell_type": "code",
   "execution_count": 88,
   "metadata": {},
   "outputs": [
    {
     "data": {
      "text/html": [
       "<div>\n",
       "<style scoped>\n",
       "    .dataframe tbody tr th:only-of-type {\n",
       "        vertical-align: middle;\n",
       "    }\n",
       "\n",
       "    .dataframe tbody tr th {\n",
       "        vertical-align: top;\n",
       "    }\n",
       "\n",
       "    .dataframe thead th {\n",
       "        text-align: right;\n",
       "    }\n",
       "</style>\n",
       "<table border=\"1\" class=\"dataframe\">\n",
       "  <thead>\n",
       "    <tr style=\"text-align: right;\">\n",
       "      <th></th>\n",
       "      <th>Neo Reference ID</th>\n",
       "      <th>Name</th>\n",
       "      <th>Absolute Magnitude</th>\n",
       "      <th>Est Dia in KM(min)</th>\n",
       "      <th>Est Dia in KM(max)</th>\n",
       "      <th>Est Dia in M(min)</th>\n",
       "      <th>Est Dia in M(max)</th>\n",
       "      <th>Est Dia in Miles(min)</th>\n",
       "      <th>Est Dia in Miles(max)</th>\n",
       "      <th>Est Dia in Feet(min)</th>\n",
       "      <th>...</th>\n",
       "      <th>Asc Node Longitude</th>\n",
       "      <th>Orbital Period</th>\n",
       "      <th>Perihelion Distance</th>\n",
       "      <th>Perihelion Arg</th>\n",
       "      <th>Aphelion Dist</th>\n",
       "      <th>Perihelion Time</th>\n",
       "      <th>Mean Anomaly</th>\n",
       "      <th>Mean Motion</th>\n",
       "      <th>Equinox</th>\n",
       "      <th>Hazardous</th>\n",
       "    </tr>\n",
       "  </thead>\n",
       "  <tbody>\n",
       "    <tr>\n",
       "      <th>0</th>\n",
       "      <td>3703080</td>\n",
       "      <td>3703080</td>\n",
       "      <td>21.6</td>\n",
       "      <td>0.127220</td>\n",
       "      <td>0.284472</td>\n",
       "      <td>127.219879</td>\n",
       "      <td>284.472297</td>\n",
       "      <td>0.079051</td>\n",
       "      <td>0.176763</td>\n",
       "      <td>417.388066</td>\n",
       "      <td>...</td>\n",
       "      <td>314.373913</td>\n",
       "      <td>609.599786</td>\n",
       "      <td>0.808259</td>\n",
       "      <td>57.257470</td>\n",
       "      <td>2.005764</td>\n",
       "      <td>2.458162e+06</td>\n",
       "      <td>264.837533</td>\n",
       "      <td>0.590551</td>\n",
       "      <td>J2000</td>\n",
       "      <td>True</td>\n",
       "    </tr>\n",
       "    <tr>\n",
       "      <th>1</th>\n",
       "      <td>3723955</td>\n",
       "      <td>3723955</td>\n",
       "      <td>21.3</td>\n",
       "      <td>0.146068</td>\n",
       "      <td>0.326618</td>\n",
       "      <td>146.067964</td>\n",
       "      <td>326.617897</td>\n",
       "      <td>0.090762</td>\n",
       "      <td>0.202951</td>\n",
       "      <td>479.225620</td>\n",
       "      <td>...</td>\n",
       "      <td>136.717242</td>\n",
       "      <td>425.869294</td>\n",
       "      <td>0.718200</td>\n",
       "      <td>313.091975</td>\n",
       "      <td>1.497352</td>\n",
       "      <td>2.457795e+06</td>\n",
       "      <td>173.741112</td>\n",
       "      <td>0.845330</td>\n",
       "      <td>J2000</td>\n",
       "      <td>False</td>\n",
       "    </tr>\n",
       "    <tr>\n",
       "      <th>2</th>\n",
       "      <td>2446862</td>\n",
       "      <td>2446862</td>\n",
       "      <td>20.3</td>\n",
       "      <td>0.231502</td>\n",
       "      <td>0.517654</td>\n",
       "      <td>231.502122</td>\n",
       "      <td>517.654482</td>\n",
       "      <td>0.143849</td>\n",
       "      <td>0.321655</td>\n",
       "      <td>759.521423</td>\n",
       "      <td>...</td>\n",
       "      <td>259.475979</td>\n",
       "      <td>643.580228</td>\n",
       "      <td>0.950791</td>\n",
       "      <td>248.415038</td>\n",
       "      <td>1.966857</td>\n",
       "      <td>2.458120e+06</td>\n",
       "      <td>292.893654</td>\n",
       "      <td>0.559371</td>\n",
       "      <td>J2000</td>\n",
       "      <td>True</td>\n",
       "    </tr>\n",
       "    <tr>\n",
       "      <th>3</th>\n",
       "      <td>3092506</td>\n",
       "      <td>3092506</td>\n",
       "      <td>27.4</td>\n",
       "      <td>0.008801</td>\n",
       "      <td>0.019681</td>\n",
       "      <td>8.801465</td>\n",
       "      <td>19.680675</td>\n",
       "      <td>0.005469</td>\n",
       "      <td>0.012229</td>\n",
       "      <td>28.876199</td>\n",
       "      <td>...</td>\n",
       "      <td>57.173266</td>\n",
       "      <td>514.082140</td>\n",
       "      <td>0.983902</td>\n",
       "      <td>18.707701</td>\n",
       "      <td>1.527904</td>\n",
       "      <td>2.457902e+06</td>\n",
       "      <td>68.741007</td>\n",
       "      <td>0.700277</td>\n",
       "      <td>J2000</td>\n",
       "      <td>False</td>\n",
       "    </tr>\n",
       "    <tr>\n",
       "      <th>4</th>\n",
       "      <td>3514799</td>\n",
       "      <td>3514799</td>\n",
       "      <td>21.6</td>\n",
       "      <td>0.127220</td>\n",
       "      <td>0.284472</td>\n",
       "      <td>127.219879</td>\n",
       "      <td>284.472297</td>\n",
       "      <td>0.079051</td>\n",
       "      <td>0.176763</td>\n",
       "      <td>417.388066</td>\n",
       "      <td>...</td>\n",
       "      <td>84.629307</td>\n",
       "      <td>495.597821</td>\n",
       "      <td>0.967687</td>\n",
       "      <td>158.263596</td>\n",
       "      <td>1.483543</td>\n",
       "      <td>2.457814e+06</td>\n",
       "      <td>135.142133</td>\n",
       "      <td>0.726395</td>\n",
       "      <td>J2000</td>\n",
       "      <td>True</td>\n",
       "    </tr>\n",
       "    <tr>\n",
       "      <th>5</th>\n",
       "      <td>3671135</td>\n",
       "      <td>3671135</td>\n",
       "      <td>19.6</td>\n",
       "      <td>0.319562</td>\n",
       "      <td>0.714562</td>\n",
       "      <td>319.561887</td>\n",
       "      <td>714.562102</td>\n",
       "      <td>0.198566</td>\n",
       "      <td>0.444008</td>\n",
       "      <td>1048.431420</td>\n",
       "      <td>...</td>\n",
       "      <td>178.971951</td>\n",
       "      <td>556.160556</td>\n",
       "      <td>0.577800</td>\n",
       "      <td>198.145969</td>\n",
       "      <td>2.069265</td>\n",
       "      <td>2.458009e+06</td>\n",
       "      <td>354.237368</td>\n",
       "      <td>0.647295</td>\n",
       "      <td>J2000</td>\n",
       "      <td>False</td>\n",
       "    </tr>\n",
       "    <tr>\n",
       "      <th>6</th>\n",
       "      <td>2495323</td>\n",
       "      <td>2495323</td>\n",
       "      <td>19.6</td>\n",
       "      <td>0.319562</td>\n",
       "      <td>0.714562</td>\n",
       "      <td>319.561887</td>\n",
       "      <td>714.562102</td>\n",
       "      <td>0.198566</td>\n",
       "      <td>0.444008</td>\n",
       "      <td>1048.431420</td>\n",
       "      <td>...</td>\n",
       "      <td>178.971953</td>\n",
       "      <td>556.160544</td>\n",
       "      <td>0.577800</td>\n",
       "      <td>198.145960</td>\n",
       "      <td>2.069265</td>\n",
       "      <td>2.458009e+06</td>\n",
       "      <td>354.237396</td>\n",
       "      <td>0.647295</td>\n",
       "      <td>J2000</td>\n",
       "      <td>False</td>\n",
       "    </tr>\n",
       "    <tr>\n",
       "      <th>7</th>\n",
       "      <td>2153315</td>\n",
       "      <td>2153315</td>\n",
       "      <td>19.2</td>\n",
       "      <td>0.384198</td>\n",
       "      <td>0.859093</td>\n",
       "      <td>384.197891</td>\n",
       "      <td>859.092601</td>\n",
       "      <td>0.238729</td>\n",
       "      <td>0.533815</td>\n",
       "      <td>1260.491809</td>\n",
       "      <td>...</td>\n",
       "      <td>112.562984</td>\n",
       "      <td>502.808758</td>\n",
       "      <td>0.680905</td>\n",
       "      <td>288.374651</td>\n",
       "      <td>1.794045</td>\n",
       "      <td>2.458242e+06</td>\n",
       "      <td>186.776932</td>\n",
       "      <td>0.715978</td>\n",
       "      <td>J2000</td>\n",
       "      <td>False</td>\n",
       "    </tr>\n",
       "    <tr>\n",
       "      <th>8</th>\n",
       "      <td>2162463</td>\n",
       "      <td>2162463</td>\n",
       "      <td>17.8</td>\n",
       "      <td>0.732074</td>\n",
       "      <td>1.636967</td>\n",
       "      <td>732.073989</td>\n",
       "      <td>1636.967205</td>\n",
       "      <td>0.454890</td>\n",
       "      <td>1.017164</td>\n",
       "      <td>2401.817627</td>\n",
       "      <td>...</td>\n",
       "      <td>80.211132</td>\n",
       "      <td>447.837013</td>\n",
       "      <td>0.872705</td>\n",
       "      <td>353.422394</td>\n",
       "      <td>1.418397</td>\n",
       "      <td>2.458222e+06</td>\n",
       "      <td>182.236432</td>\n",
       "      <td>0.803864</td>\n",
       "      <td>J2000</td>\n",
       "      <td>False</td>\n",
       "    </tr>\n",
       "    <tr>\n",
       "      <th>9</th>\n",
       "      <td>2306383</td>\n",
       "      <td>2306383</td>\n",
       "      <td>21.5</td>\n",
       "      <td>0.133216</td>\n",
       "      <td>0.297879</td>\n",
       "      <td>133.215567</td>\n",
       "      <td>297.879063</td>\n",
       "      <td>0.082776</td>\n",
       "      <td>0.185093</td>\n",
       "      <td>437.058960</td>\n",
       "      <td>...</td>\n",
       "      <td>2.613682</td>\n",
       "      <td>299.535161</td>\n",
       "      <td>0.393040</td>\n",
       "      <td>253.765937</td>\n",
       "      <td>1.359211</td>\n",
       "      <td>2.457901e+06</td>\n",
       "      <td>119.861382</td>\n",
       "      <td>1.201862</td>\n",
       "      <td>J2000</td>\n",
       "      <td>True</td>\n",
       "    </tr>\n",
       "  </tbody>\n",
       "</table>\n",
       "<p>10 rows × 40 columns</p>\n",
       "</div>"
      ],
      "text/plain": [
       "   Neo Reference ID     Name  Absolute Magnitude  Est Dia in KM(min)  \\\n",
       "0           3703080  3703080                21.6            0.127220   \n",
       "1           3723955  3723955                21.3            0.146068   \n",
       "2           2446862  2446862                20.3            0.231502   \n",
       "3           3092506  3092506                27.4            0.008801   \n",
       "4           3514799  3514799                21.6            0.127220   \n",
       "5           3671135  3671135                19.6            0.319562   \n",
       "6           2495323  2495323                19.6            0.319562   \n",
       "7           2153315  2153315                19.2            0.384198   \n",
       "8           2162463  2162463                17.8            0.732074   \n",
       "9           2306383  2306383                21.5            0.133216   \n",
       "\n",
       "   Est Dia in KM(max)  Est Dia in M(min)  Est Dia in M(max)  \\\n",
       "0            0.284472         127.219879         284.472297   \n",
       "1            0.326618         146.067964         326.617897   \n",
       "2            0.517654         231.502122         517.654482   \n",
       "3            0.019681           8.801465          19.680675   \n",
       "4            0.284472         127.219879         284.472297   \n",
       "5            0.714562         319.561887         714.562102   \n",
       "6            0.714562         319.561887         714.562102   \n",
       "7            0.859093         384.197891         859.092601   \n",
       "8            1.636967         732.073989        1636.967205   \n",
       "9            0.297879         133.215567         297.879063   \n",
       "\n",
       "   Est Dia in Miles(min)  Est Dia in Miles(max)  Est Dia in Feet(min)  ...  \\\n",
       "0               0.079051               0.176763            417.388066  ...   \n",
       "1               0.090762               0.202951            479.225620  ...   \n",
       "2               0.143849               0.321655            759.521423  ...   \n",
       "3               0.005469               0.012229             28.876199  ...   \n",
       "4               0.079051               0.176763            417.388066  ...   \n",
       "5               0.198566               0.444008           1048.431420  ...   \n",
       "6               0.198566               0.444008           1048.431420  ...   \n",
       "7               0.238729               0.533815           1260.491809  ...   \n",
       "8               0.454890               1.017164           2401.817627  ...   \n",
       "9               0.082776               0.185093            437.058960  ...   \n",
       "\n",
       "   Asc Node Longitude Orbital Period  Perihelion Distance  Perihelion Arg  \\\n",
       "0          314.373913     609.599786             0.808259       57.257470   \n",
       "1          136.717242     425.869294             0.718200      313.091975   \n",
       "2          259.475979     643.580228             0.950791      248.415038   \n",
       "3           57.173266     514.082140             0.983902       18.707701   \n",
       "4           84.629307     495.597821             0.967687      158.263596   \n",
       "5          178.971951     556.160556             0.577800      198.145969   \n",
       "6          178.971953     556.160544             0.577800      198.145960   \n",
       "7          112.562984     502.808758             0.680905      288.374651   \n",
       "8           80.211132     447.837013             0.872705      353.422394   \n",
       "9            2.613682     299.535161             0.393040      253.765937   \n",
       "\n",
       "   Aphelion Dist  Perihelion Time  Mean Anomaly  Mean Motion  Equinox  \\\n",
       "0       2.005764     2.458162e+06    264.837533     0.590551    J2000   \n",
       "1       1.497352     2.457795e+06    173.741112     0.845330    J2000   \n",
       "2       1.966857     2.458120e+06    292.893654     0.559371    J2000   \n",
       "3       1.527904     2.457902e+06     68.741007     0.700277    J2000   \n",
       "4       1.483543     2.457814e+06    135.142133     0.726395    J2000   \n",
       "5       2.069265     2.458009e+06    354.237368     0.647295    J2000   \n",
       "6       2.069265     2.458009e+06    354.237396     0.647295    J2000   \n",
       "7       1.794045     2.458242e+06    186.776932     0.715978    J2000   \n",
       "8       1.418397     2.458222e+06    182.236432     0.803864    J2000   \n",
       "9       1.359211     2.457901e+06    119.861382     1.201862    J2000   \n",
       "\n",
       "   Hazardous  \n",
       "0       True  \n",
       "1      False  \n",
       "2       True  \n",
       "3      False  \n",
       "4       True  \n",
       "5      False  \n",
       "6      False  \n",
       "7      False  \n",
       "8      False  \n",
       "9       True  \n",
       "\n",
       "[10 rows x 40 columns]"
      ]
     },
     "execution_count": 88,
     "metadata": {},
     "output_type": "execute_result"
    }
   ],
   "source": [
    "#lets observe some of his elements\n",
    "data.head(10)"
   ]
  },
  {
   "cell_type": "code",
   "execution_count": 89,
   "metadata": {},
   "outputs": [],
   "source": [
    "# Dividing the label and features columns in X, y and then eliminating irrelevant features such as name and ids\n",
    "X = data.copy()\n",
    "X.drop(columns=['Neo Reference ID', 'Name', 'Orbit ID', 'Hazardous'], inplace=True)\n",
    "y = data['Hazardous'].astype(int)"
   ]
  },
  {
   "cell_type": "markdown",
   "metadata": {},
   "source": [
    "<h2>EDA</h2>\n",
    "<p>Exploratory Data Analysis</p>\n",
    "\n",
    "<p>Lets create a heatmap graphic here. With this graphics we can see the correlation between different features</p>"
   ]
  },
  {
   "cell_type": "code",
   "execution_count": 90,
   "metadata": {},
   "outputs": [
    {
     "data": {
      "image/png": "[encoded data removed]",
      "text/plain": [
       "<Figure size 1008x864 with 2 Axes>"
      ]
     },
     "metadata": {
      "needs_background": "light"
     },
     "output_type": "display_data"
    }
   ],
   "source": [
    "correlation = X.corr()\n",
    "\n",
    "f, ax = plt.subplots(figsize=(14,12))\n",
    "plt.title('Correlation of numerical attributes', size=16)\n",
    "sns.heatmap(correlation)\n",
    "plt.show()"
   ]
  },
  {
   "cell_type": "markdown",
   "metadata": {},
   "source": [
    "<h4>Observations</h4>\n",
    "<li>Let's focus on the lighter parts of the graph</li>\n",
    "<ol>\n",
    "    <li>The Estimated Diameters have a high correlation because they are telling the \"same thing\"</li>\n",
    "    <li>The Relatives velocity have a high correlation because they are telling the \"same thing\"</li>\n",
    "    <li>The Miss Distance have a high correlation because they are telling the \"same thing\"</li>\n",
    "</ol>"
   ]
  },
  {
   "cell_type": "code",
   "execution_count": 91,
   "metadata": {},
   "outputs": [],
   "source": [
    "#We can see there are 8 columns indicating Min and Max values of the Estimated Diameter of asteroids\n",
    "#We are going to create a new column with the Mean value of KM(min) and KM(max) and then eliminate the rest\n",
    "X['avg_dia'] = X[['Est Dia in KM(min)', 'Est Dia in KM(max)']].mean(axis=1)\n",
    "X.drop(columns=['Est Dia in KM(min)', 'Est Dia in KM(max)', 'Est Dia in M(min)',\n",
    "               'Est Dia in M(max)', 'Est Dia in Miles(min)', 'Est Dia in Miles(max)',\n",
    "               'Est Dia in Feet(min)', 'Est Dia in Feet(max)'], inplace=True)"
   ]
  },
  {
   "cell_type": "code",
   "execution_count": 92,
   "metadata": {},
   "outputs": [],
   "source": [
    "#There are 3 columns indicating Relative Velocity\n",
    "#We are going to just leave the Relative Velocity km per hr\n",
    "X.drop(columns=['Relative Velocity km per sec', 'Miles per hour'], inplace=True)"
   ]
  },
  {
   "cell_type": "code",
   "execution_count": 93,
   "metadata": {},
   "outputs": [],
   "source": [
    "#There are 4 columns indicating Miss Distance\n",
    "#We are going to just leave Mist Distance in kilometers\n",
    "X.drop(columns=['Miss Dist.(Astronomical)', 'Miss Dist.(lunar)', 'Miss Dist.(miles)'], inplace=True)"
   ]
  },
  {
   "cell_type": "code",
   "execution_count": 94,
   "metadata": {},
   "outputs": [
    {
     "name": "stdout",
     "output_type": "stream",
     "text": [
      "Earth    1.0\n",
      "Name: Orbiting Body, dtype: float64\n",
      "J2000    1.0\n",
      "Name: Equinox, dtype: float64\n"
     ]
    }
   ],
   "source": [
    "#Lets see the variability of categorical columns\n",
    "cat_columns = X.select_dtypes(include=['object']).columns\n",
    "#We dont count these 2 columns because they are dates, we will process them later\n",
    "cat_columns = cat_columns.drop(['Close Approach Date', 'Orbit Determination Date'])\n",
    "for col in cat_columns:\n",
    "    print(X[col].value_counts(ascending=True, normalize=True))"
   ]
  },
  {
   "cell_type": "markdown",
   "metadata": {},
   "source": [
    "<h4>Observations</h4>\n",
    "<li>We can see both \"Orbiting Body\" and \"Equinox\" have only 1 possible value, so we are going to eliminate them</li>"
   ]
  },
  {
   "cell_type": "code",
   "execution_count": 95,
   "metadata": {},
   "outputs": [],
   "source": [
    "#Eliminating Orbiting Body and Equinox columns\n",
    "X.drop(columns=cat_columns, inplace=True)"
   ]
  },
  {
   "cell_type": "markdown",
   "metadata": {},
   "source": [
    "<h2>Missing Data</h2>\n",
    "<ul>\n",
    "    <li>Lets see if there any missing values and visualize them</li>\n",
    "</ul>"
   ]
  },
  {
   "cell_type": "code",
   "execution_count": 96,
   "metadata": {},
   "outputs": [
    {
     "data": {
      "text/plain": [
       "Absolute Magnitude             0\n",
       "Close Approach Date            0\n",
       "Epoch Date Close Approach      0\n",
       "Relative Velocity km per hr    0\n",
       "Miss Dist.(kilometers)         0\n",
       "Orbit Determination Date       0\n",
       "Orbit Uncertainity             0\n",
       "Minimum Orbit Intersection     0\n",
       "Jupiter Tisserand Invariant    0\n",
       "Epoch Osculation               0\n",
       "Eccentricity                   0\n",
       "Semi Major Axis                0\n",
       "Inclination                    0\n",
       "Asc Node Longitude             0\n",
       "Orbital Period                 0\n",
       "Perihelion Distance            0\n",
       "Perihelion Arg                 0\n",
       "Aphelion Dist                  0\n",
       "Perihelion Time                0\n",
       "Mean Anomaly                   0\n",
       "Mean Motion                    0\n",
       "avg_dia                        0\n",
       "dtype: int64"
      ]
     },
     "execution_count": 96,
     "metadata": {},
     "output_type": "execute_result"
    }
   ],
   "source": [
    "X.isnull().sum()"
   ]
  },
  {
   "cell_type": "markdown",
   "metadata": {},
   "source": [
    "<li>Luckily we don't have any missing values, so we can proceed with modeling</li>"
   ]
  },
  {
   "cell_type": "markdown",
   "metadata": {},
   "source": [
    "<h2>Preprocessing + Pipeline</h2>\n",
    "<li>First, lets split the data into train and test dataframes</li>\n",
    "<p>Steps:</p>\n",
    "<ol>\n",
    "    <li>Extract year, month and day from the date columns so we can use them as numerical features</li>\n",
    "    <li>Add Year, Month and Day for each date column to the dataset</li>\n",
    "    <li>Eliminate date columns from the dataset</li>\n",
    "    <li>Fit the model</li>\n",
    "</ol>"
   ]
  },
  {
   "cell_type": "code",
   "execution_count": 97,
   "metadata": {},
   "outputs": [],
   "source": [
    "#Import Pipeline\n",
    "from sklearn.pipeline import Pipeline\n",
    "#Import model and GridSearch for Hyperparameter Optimization\n",
    "from xgboost import XGBClassifier\n",
    "from sklearn.model_selection import GridSearchCV\n"
   ]
  },
  {
   "cell_type": "code",
   "execution_count": 98,
   "metadata": {},
   "outputs": [],
   "source": [
    "#Splitting the data\n",
    "#We dont use train_test_split here because it will randomly assign different rows to train and test,\n",
    "#But, because we have time based features, we split the data based on time\n",
    "X_train, X_test= np.split(X, [int(.80 *len(X))])\n",
    "y_train, y_test= np.split(y, [int(.80 *len(X))])"
   ]
  },
  {
   "cell_type": "code",
   "execution_count": 99,
   "metadata": {},
   "outputs": [],
   "source": [
    "#Import the BaseEstimator\n",
    "from sklearn.base import BaseEstimator\n",
    "\n",
    "#Define Date pre-processor class\n",
    "class DateProcessor(BaseEstimator):\n",
    "\n",
    "    def __init__(self):\n",
    "        pass\n",
    "\n",
    "    def fit(self, documents, y=None):\n",
    "        return self\n",
    "\n",
    "    def transform(self, df):\n",
    "        dateCols = ['Close Approach Date', 'Orbit Determination Date']\n",
    "        new_df = df.copy()\n",
    "        for col in dateCols:\n",
    "            \n",
    "            new_df[col] = pd.to_datetime(new_df[col], errors=\"coerce\",format=\"%Y-%m-%d\")\n",
    "            #df.dropna(axis=1, subset=['date'], inplace=True)\n",
    "            \n",
    "            newColsDict = {'day': str(col) + \" day\", 'month': str(col) + \" month\", 'year': str(col) + \" year\"}\n",
    "            new_df[newColsDict['day']] = new_df[col].dt.day\n",
    "            new_df[newColsDict['month']] = new_df[col].dt.month\n",
    "            new_df[newColsDict['year']] = new_df[col].dt.year\n",
    "            \n",
    "        new_df.drop(inplace=True, columns=dateCols)\n",
    "        return new_df"
   ]
  },
  {
   "cell_type": "code",
   "execution_count": 100,
   "metadata": {},
   "outputs": [
    {
     "data": {
      "text/plain": [
       "Pipeline(steps=[('process_dates', DateProcessor()),\n",
       "                ('XGBoost',\n",
       "                 XGBClassifier(base_score=0.5, booster='gbtree',\n",
       "                               colsample_bylevel=1, colsample_bynode=1,\n",
       "                               colsample_bytree=1, gamma=0, gpu_id=-1,\n",
       "                               importance_type='gain',\n",
       "                               interaction_constraints='', learning_rate=0.1,\n",
       "                               max_delta_step=0, max_depth=6,\n",
       "                               min_child_weight=1, missing=nan,\n",
       "                               monotone_constraints='()', n_estimators=100,\n",
       "                               n_jobs=0, num_parallel_tree=1, random_state=0,\n",
       "                               reg_alpha=0, reg_lambda=1, scale_pos_weight=1,\n",
       "                               subsample=1, tree_method='exact',\n",
       "                               validate_parameters=1, verbosity=None))])"
      ]
     },
     "execution_count": 100,
     "metadata": {},
     "output_type": "execute_result"
    }
   ],
   "source": [
    "#Defining the pipeline\n",
    "estimator = XGBClassifier(learning_rate=0.1)\n",
    "model_pipeline = Pipeline(steps=[\n",
    "                                ('process_dates', DateProcessor()),\n",
    "                                ('XGBoost', estimator)\n",
    "                                ])\n",
    "model_pipeline.fit(X_train, y_train)"
   ]
  },
  {
   "cell_type": "code",
   "execution_count": 101,
   "metadata": {},
   "outputs": [
    {
     "data": {
      "text/plain": [
       "1.0"
      ]
     },
     "execution_count": 101,
     "metadata": {},
     "output_type": "execute_result"
    }
   ],
   "source": [
    "#Score\n",
    "model_pipeline.score(X_test, y_test)"
   ]
  },
  {
   "cell_type": "code",
   "execution_count": 102,
   "metadata": {},
   "outputs": [
    {
     "name": "stdout",
     "output_type": "stream",
     "text": [
      "Accuracy: 100.00%\n"
     ]
    }
   ],
   "source": [
    "#Lets try another score method\n",
    "from sklearn.metrics import accuracy_score\n",
    "\n",
    "y_pred = model_pipeline.predict(X_test)\n",
    "predictions = [round(value) for value in y_pred]\n",
    "accuracy = accuracy_score(y_test, predictions)\n",
    "print(\"Accuracy: %.2f%%\" % (accuracy * 100.0))"
   ]
  },
  {
   "cell_type": "code",
   "execution_count": 103,
   "metadata": {},
   "outputs": [
    {
     "name": "stdout",
     "output_type": "stream",
     "text": [
      "\t\tClassification Report\n",
      "\n",
      "               precision    recall  f1-score   support\n",
      "\n",
      "      Hazard       1.00      1.00      1.00       815\n",
      "  Not Hazard       1.00      1.00      1.00       123\n",
      "\n",
      "    accuracy                           1.00       938\n",
      "   macro avg       1.00      1.00      1.00       938\n",
      "weighted avg       1.00      1.00      1.00       938\n",
      "\n"
     ]
    }
   ],
   "source": [
    "from sklearn.metrics import confusion_matrix, classification_report\n",
    "cm = confusion_matrix(y_test, y_pred)\n",
    "report = classification_report(y_test, y_pred, target_names=['Hazard', 'Not Hazard'])\n",
    "print(\"\\t\\tClassification Report\\n\\n\", report)"
   ]
  },
  {
   "cell_type": "code",
   "execution_count": 104,
   "metadata": {},
   "outputs": [
    {
     "name": "stdout",
     "output_type": "stream",
     "text": [
      "Confusion Matrix\n",
      " [[815   0]\n",
      " [  0 123]]\n"
     ]
    }
   ],
   "source": [
    "cm = confusion_matrix(y_test, y_pred)\n",
    "print(\"Confusion Matrix\\n\", cm)"
   ]
  }
 ],
 "metadata": {
  "kernelspec": {
   "display_name": "Python 3",
   "language": "python",
   "name": "python3"
  },
  "language_info": {
   "codemirror_mode": {
    "name": "ipython",
    "version": 3
   },
   "file_extension": ".py",
   "mimetype": "text/x-python",
   "name": "python",
   "nbconvert_exporter": "python",
   "pygments_lexer": "ipython3",
   "version": "3.7.9"
  }
 },
 "nbformat": 4,
 "nbformat_minor": 4
}
